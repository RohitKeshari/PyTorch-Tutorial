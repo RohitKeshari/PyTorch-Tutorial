{
  "nbformat": 4,
  "nbformat_minor": 0,
  "metadata": {
    "colab": {
      "name": "CIFAR10_cnn.ipynb",
      "version": "0.3.2",
      "provenance": [],
      "include_colab_link": true
    },
    "kernelspec": {
      "name": "python3",
      "display_name": "Python 3"
    },
    "accelerator": "GPU"
  },
  "cells": [
    {
      "cell_type": "markdown",
      "metadata": {
        "id": "view-in-github",
        "colab_type": "text"
      },
      "source": [
        "<a href=\"https://colab.research.google.com/github/RohitKeshari/PyTorch-Tutorial/blob/master/CIFAR10_cnn.ipynb\" target=\"_parent\"><img src=\"https://colab.research.google.com/assets/colab-badge.svg\" alt=\"Open In Colab\"/></a>"
      ]
    },
    {
      "metadata": {
        "id": "lMdD_a2DUlhM",
        "colab_type": "code",
        "colab": {}
      },
      "cell_type": "code",
      "source": [
        "# it's specific to colab\n",
        "# http://pytorch.org/  \n",
        "from os.path import exists\n",
        "from wheel.pep425tags import get_abbr_impl, get_impl_ver, get_abi_tag\n",
        "platform = '{}{}-{}'.format(get_abbr_impl(), get_impl_ver(), get_abi_tag())\n",
        "cuda_output = !ldconfig -p|grep cudart.so|sed -e 's/.*\\.\\([0-9]*\\)\\.\\([0-9]*\\)$/cu\\1\\2/'\n",
        "accelerator = cuda_output[0] if exists('/dev/nvidia0') else 'cpu'\n",
        "\n",
        "!pip install -q http://download.pytorch.org/whl/{accelerator}/torch-0.4.1-{platform}-linux_x86_64.whl torchvision\n",
        "import torch"
      ],
      "execution_count": 0,
      "outputs": []
    },
    {
      "metadata": {
        "id": "iFp_urAMV_lc",
        "colab_type": "text"
      },
      "cell_type": "markdown",
      "source": [
        "**Loading and normalizing CIFAR10**"
      ]
    },
    {
      "metadata": {
        "id": "AxphNDjXU3ml",
        "colab_type": "code",
        "colab": {}
      },
      "cell_type": "code",
      "source": [
        "import torch\n",
        "import torchvision\n",
        "import torchvision.transforms as transforms"
      ],
      "execution_count": 0,
      "outputs": []
    },
    {
      "metadata": {
        "id": "WEyRrFDeWiIl",
        "colab_type": "text"
      },
      "cell_type": "markdown",
      "source": [
        "*The output of torchvision datasets are PILImage images of range [0, 1]. We transform them to Tensors of normalized range [-1, 1]*"
      ]
    },
    {
      "metadata": {
        "id": "adbWRsNpVDH_",
        "colab_type": "code",
        "outputId": "2463d461-f6d9-4e67-daa9-d24f892d6dcd",
        "colab": {
          "base_uri": "https://localhost:8080/",
          "height": 51
        }
      },
      "cell_type": "code",
      "source": [
        "transform = transforms.Compose(\n",
        "    [transforms.ToTensor(),\n",
        "     transforms.Normalize((0.5, 0.5, 0.5), (0.5, 0.5, 0.5))])\n",
        "\n",
        "trainset = torchvision.datasets.CIFAR10(root='./data', train=True,\n",
        "                                        download=True, transform=transform)\n",
        "trainloader = torch.utils.data.DataLoader(trainset, batch_size=4,\n",
        "                                          shuffle=True, num_workers=2)\n",
        "\n",
        "testset = torchvision.datasets.CIFAR10(root='./data', train=False,\n",
        "                                       download=True, transform=transform)\n",
        "testloader = torch.utils.data.DataLoader(testset, batch_size=4,\n",
        "                                         shuffle=False, num_workers=2)\n",
        "\n",
        "classes = ('plane', 'car', 'bird', 'cat',\n",
        "           'deer', 'dog', 'frog', 'horse', 'ship', 'truck')"
      ],
      "execution_count": 0,
      "outputs": [
        {
          "output_type": "stream",
          "text": [
            "Files already downloaded and verified\n",
            "Files already downloaded and verified\n"
          ],
          "name": "stdout"
        }
      ]
    },
    {
      "metadata": {
        "id": "RLgqYDdfWth2",
        "colab_type": "text"
      },
      "cell_type": "markdown",
      "source": [
        "**Let us show some of the training images, for fun**"
      ]
    },
    {
      "metadata": {
        "id": "29BLpo_aVTPw",
        "colab_type": "code",
        "outputId": "8c4d7ef9-95de-4126-8166-82bbc041b672",
        "colab": {
          "base_uri": "https://localhost:8080/",
          "height": 184
        }
      },
      "cell_type": "code",
      "source": [
        "import matplotlib.pyplot as plt\n",
        "import numpy as np\n",
        "\n",
        "\n",
        "# functions to show an image\n",
        "\n",
        "def imshow(img):\n",
        "    img = img / 2 + 0.5     # unnormalize\n",
        "    npimg = img.numpy()\n",
        "    plt.imshow(np.transpose(npimg, (1, 2, 0)))\n",
        "    plt.show()\n",
        "\n",
        "\n",
        "# get some random training images\n",
        "dataiter = iter(trainloader)\n",
        "images, labels = dataiter.next()\n",
        "\n",
        "# show images\n",
        "imshow(torchvision.utils.make_grid(images))\n",
        "# print labels\n",
        "print(' '.join('%5s' % classes[labels[j]] for j in range(4)))"
      ],
      "execution_count": 0,
      "outputs": [
        {
          "output_type": "display_data",
          "data": {
            "image/png": "[encoded data removed]",
            "text/plain": [
              "<Figure size 576x396 with 1 Axes>"
            ]
          },
          "metadata": {
            "tags": []
          }
        },
        {
          "output_type": "stream",
          "text": [
            " deer   cat  ship  deer\n"
          ],
          "name": "stdout"
        }
      ]
    },
    {
      "metadata": {
        "id": "AFV9_OLkXOnt",
        "colab_type": "text"
      },
      "cell_type": "markdown",
      "source": [
        "Define a Convolutional Neural Network (**CNN**)"
      ]
    },
    {
      "metadata": {
        "id": "yXT9x6qBVePh",
        "colab_type": "code",
        "colab": {}
      },
      "cell_type": "code",
      "source": [
        "import torch.nn as nn\n",
        "import torch.nn.functional as F\n",
        "\n",
        "\n",
        "class Net(nn.Module):\n",
        "    def __init__(self):\n",
        "        super(Net, self).__init__()\n",
        "        self.conv1 = nn.Conv2d(3, 6, 5)\n",
        "        self.pool = nn.MaxPool2d(2, 2)\n",
        "        self.conv2 = nn.Conv2d(6, 16, 5)\n",
        "        self.fc1 = nn.Linear(16 * 5 * 5, 120)\n",
        "        self.fc2 = nn.Linear(120, 84)\n",
        "        self.fc3 = nn.Linear(84, 10)\n",
        "\n",
        "    def forward(self, x):\n",
        "        x = self.pool(F.relu(self.conv1(x)))\n",
        "        x = self.pool(F.relu(self.conv2(x)))\n",
        "        x = x.view(-1, 16 * 5 * 5)\n",
        "        x = F.relu(self.fc1(x))\n",
        "        x = F.relu(self.fc2(x))\n",
        "        x = self.fc3(x)\n",
        "        return x\n",
        "\n",
        "\n",
        "net = Net()"
      ],
      "execution_count": 0,
      "outputs": []
    },
    {
      "metadata": {
        "id": "2pk1KA4QVzNo",
        "colab_type": "text"
      },
      "cell_type": "markdown",
      "source": [
        "**Define a Loss function and optimizer**"
      ]
    },
    {
      "metadata": {
        "id": "q5f-gPkWVkpm",
        "colab_type": "code",
        "colab": {}
      },
      "cell_type": "code",
      "source": [
        "\n",
        "import torch.optim as optim\n",
        "\n",
        "criterion = nn.CrossEntropyLoss()\n",
        "optimizer = optim.SGD(net.parameters(), lr=0.001, momentum=0.9)"
      ],
      "execution_count": 0,
      "outputs": []
    },
    {
      "metadata": {
        "id": "24hK-JfaXU2g",
        "colab_type": "text"
      },
      "cell_type": "markdown",
      "source": [
        "**Train the network**"
      ]
    },
    {
      "metadata": {
        "id": "7IY8K8QzWZ_g",
        "colab_type": "code",
        "outputId": "b7fff608-b89b-4237-b296-1619e53f39a4",
        "colab": {
          "base_uri": "https://localhost:8080/",
          "height": 238
        }
      },
      "cell_type": "code",
      "source": [
        "for epoch in range(2):  # loop over the dataset multiple times\n",
        "\n",
        "    running_loss = 0.0\n",
        "    for i, data in enumerate(trainloader, 0):\n",
        "        # get the inputs\n",
        "        inputs, labels = data\n",
        "\n",
        "        # zero the parameter gradients\n",
        "        optimizer.zero_grad()\n",
        "\n",
        "        # forward + backward + optimize\n",
        "        outputs = net(inputs)\n",
        "        loss = criterion(outputs, labels)\n",
        "        loss.backward()\n",
        "        optimizer.step()\n",
        "\n",
        "        # print statistics\n",
        "        running_loss += loss.item()\n",
        "        if i % 2000 == 1999:    # print every 2000 mini-batches\n",
        "            print('[%d, %5d] loss: %.3f' %\n",
        "                  (epoch + 1, i + 1, running_loss / 2000))\n",
        "            running_loss = 0.0\n",
        "\n",
        "print('Finished Training')"
      ],
      "execution_count": 0,
      "outputs": [
        {
          "output_type": "stream",
          "text": [
            "[1,  2000] loss: 2.222\n",
            "[1,  4000] loss: 1.878\n",
            "[1,  6000] loss: 1.691\n",
            "[1,  8000] loss: 1.603\n",
            "[1, 10000] loss: 1.534\n",
            "[1, 12000] loss: 1.480\n",
            "[2,  2000] loss: 1.419\n",
            "[2,  4000] loss: 1.389\n",
            "[2,  6000] loss: 1.357\n",
            "[2,  8000] loss: 1.361\n",
            "[2, 10000] loss: 1.342\n",
            "[2, 12000] loss: 1.318\n",
            "Finished Training\n"
          ],
          "name": "stdout"
        }
      ]
    },
    {
      "metadata": {
        "id": "oZRUlR23Xis4",
        "colab_type": "text"
      },
      "cell_type": "markdown",
      "source": [
        "**Test the network on the test data**"
      ]
    },
    {
      "metadata": {
        "id": "aosEga3UXkWR",
        "colab_type": "code",
        "outputId": "9fd58e5a-6f58-4825-d5ff-5c5be39bf484",
        "colab": {
          "base_uri": "https://localhost:8080/",
          "height": 629
        }
      },
      "cell_type": "code",
      "source": [
        "dataiter = iter(testloader)\n",
        "images, labels = dataiter.next()\n",
        "\n",
        "# print images\n",
        "imshow(torchvision.utils.make_grid(images))\n",
        "print('GroundTruth: ', ' '.join('%5s' % classes[labels[j]] for j in range(4)))"
      ],
      "execution_count": 0,
      "outputs": [
        {
          "output_type": "stream",
          "text": [
            "Exception ignored in: <bound method _DataLoaderIter.__del__ of <torch.utils.data.dataloader._DataLoaderIter object at 0x7f0d77fc0a58>>\n",
            "Traceback (most recent call last):\n",
            "  File \"/usr/local/lib/python3.6/dist-packages/torch/utils/data/dataloader.py\", line 399, in __del__\n",
            "    self._shutdown_workers()\n",
            "  File \"/usr/local/lib/python3.6/dist-packages/torch/utils/data/dataloader.py\", line 378, in _shutdown_workers\n",
            "    self.worker_result_queue.get()\n",
            "  File \"/usr/lib/python3.6/multiprocessing/queues.py\", line 337, in get\n",
            "    return _ForkingPickler.loads(res)\n",
            "  File \"/usr/local/lib/python3.6/dist-packages/torch/multiprocessing/reductions.py\", line 151, in rebuild_storage_fd\n",
            "    fd = df.detach()\n",
            "  File \"/usr/lib/python3.6/multiprocessing/resource_sharer.py\", line 57, in detach\n",
            "    with _resource_sharer.get_connection(self._id) as conn:\n",
            "  File \"/usr/lib/python3.6/multiprocessing/resource_sharer.py\", line 87, in get_connection\n",
            "    c = Client(address, authkey=process.current_process().authkey)\n",
            "  File \"/usr/lib/python3.6/multiprocessing/connection.py\", line 493, in Client\n",
            "    answer_challenge(c, authkey)\n",
            "  File \"/usr/lib/python3.6/multiprocessing/connection.py\", line 737, in answer_challenge\n",
            "    response = connection.recv_bytes(256)        # reject large message\n",
            "  File \"/usr/lib/python3.6/multiprocessing/connection.py\", line 216, in recv_bytes\n",
            "    buf = self._recv_bytes(maxlength)\n",
            "  File \"/usr/lib/python3.6/multiprocessing/connection.py\", line 407, in _recv_bytes\n",
            "    buf = self._recv(4)\n",
            "  File \"/usr/lib/python3.6/multiprocessing/connection.py\", line 379, in _recv\n",
            "    chunk = read(handle, remaining)\n",
            "ConnectionResetError: [Errno 104] Connection reset by peer\n"
          ],
          "name": "stderr"
        },
        {
          "output_type": "display_data",
          "data": {
            "image/png": "[encoded data removed]",
            "text/plain": [
              "<Figure size 576x396 with 1 Axes>"
            ]
          },
          "metadata": {
            "tags": []
          }
        },
        {
          "output_type": "stream",
          "text": [
            "GroundTruth:    cat  ship  ship plane\n"
          ],
          "name": "stdout"
        }
      ]
    },
    {
      "metadata": {
        "id": "iMxH2R2tXvgy",
        "colab_type": "text"
      },
      "cell_type": "markdown",
      "source": [
        "Okay, now let us see **what the neural network thinks** these examples above are:"
      ]
    },
    {
      "metadata": {
        "id": "O6lJxJhgXqSw",
        "colab_type": "code",
        "colab": {}
      },
      "cell_type": "code",
      "source": [
        "outputs = net(images)"
      ],
      "execution_count": 0,
      "outputs": []
    },
    {
      "metadata": {
        "id": "lOrqOV6WX7cJ",
        "colab_type": "text"
      },
      "cell_type": "markdown",
      "source": [
        "The outputs are energies for the 10 classes. The higher the energy for a class, the more the network thinks that the image is of the particular class. So,** let’s get the index of the highest energy**:"
      ]
    },
    {
      "metadata": {
        "id": "aRqMK6i-X8ng",
        "colab_type": "code",
        "outputId": "4a8b0888-245c-47b1-99d0-6d6bca0b4fdb",
        "colab": {
          "base_uri": "https://localhost:8080/",
          "height": 34
        }
      },
      "cell_type": "code",
      "source": [
        "_, predicted = torch.max(outputs, 1)\n",
        "\n",
        "print('Predicted: ', ' '.join('%5s' % classes[predicted[j]]\n",
        "                              for j in range(4)))"
      ],
      "execution_count": 0,
      "outputs": [
        {
          "output_type": "stream",
          "text": [
            "Predicted:    cat   car   car plane\n"
          ],
          "name": "stdout"
        }
      ]
    },
    {
      "metadata": {
        "id": "e9lvkQuBYO4O",
        "colab_type": "text"
      },
      "cell_type": "markdown",
      "source": [
        "The results seem pretty good.\n",
        "\n",
        "Let us look at how **the network performs on the whole dataset**."
      ]
    },
    {
      "metadata": {
        "id": "G8oze9N1YQAx",
        "colab_type": "code",
        "outputId": "ec11a03d-1b74-4b5b-e131-93645f21b84e",
        "colab": {
          "base_uri": "https://localhost:8080/",
          "height": 34
        }
      },
      "cell_type": "code",
      "source": [
        "correct = 0\n",
        "total = 0\n",
        "with torch.no_grad():\n",
        "    for data in testloader:\n",
        "        images, labels = data\n",
        "        outputs = net(images)\n",
        "        _, predicted = torch.max(outputs.data, 1)\n",
        "        total += labels.size(0)\n",
        "        correct += (predicted == labels).sum().item()\n",
        "\n",
        "print('Accuracy of the network on the 10000 test images: %d %%' % (\n",
        "    100 * correct / total))"
      ],
      "execution_count": 0,
      "outputs": [
        {
          "output_type": "stream",
          "text": [
            "Accuracy of the network on the 10000 test images: 53 %\n"
          ],
          "name": "stdout"
        }
      ]
    },
    {
      "metadata": {
        "id": "yWh3oy1qYb2e",
        "colab_type": "text"
      },
      "cell_type": "markdown",
      "source": [
        "**That looks waaay better** than chance, which is 10% accuracy (randomly picking a class out of 10 classes). Seems like **the network learnt something**.\n",
        "\n",
        "Hmmm, what are the **classes that performed well**, and the classes that did not perform well:"
      ]
    },
    {
      "metadata": {
        "id": "jjooR7JxYcuc",
        "colab_type": "code",
        "outputId": "9967d3d7-2173-4bbb-f7fb-231cc36a6bfe",
        "colab": {
          "base_uri": "https://localhost:8080/",
          "height": 187
        }
      },
      "cell_type": "code",
      "source": [
        "class_correct = list(0. for i in range(10))\n",
        "class_total = list(0. for i in range(10))\n",
        "with torch.no_grad():\n",
        "    for data in testloader:\n",
        "        images, labels = data\n",
        "        outputs = net(images)\n",
        "        _, predicted = torch.max(outputs, 1)\n",
        "        c = (predicted == labels).squeeze()\n",
        "        for i in range(4):\n",
        "            label = labels[i]\n",
        "            class_correct[label] += c[i].item()\n",
        "            class_total[label] += 1\n",
        "\n",
        "\n",
        "for i in range(10):\n",
        "    print('Accuracy of %5s : %2d %%' % (\n",
        "        classes[i], 100 * class_correct[i] / class_total[i]))"
      ],
      "execution_count": 0,
      "outputs": [
        {
          "output_type": "stream",
          "text": [
            "Accuracy of plane : 74 %\n",
            "Accuracy of   car : 69 %\n",
            "Accuracy of  bird : 30 %\n",
            "Accuracy of   cat : 23 %\n",
            "Accuracy of  deer : 50 %\n",
            "Accuracy of   dog : 43 %\n",
            "Accuracy of  frog : 79 %\n",
            "Accuracy of horse : 57 %\n",
            "Accuracy of  ship : 51 %\n",
            "Accuracy of truck : 58 %\n"
          ],
          "name": "stdout"
        }
      ]
    },
    {
      "metadata": {
        "id": "PlATrqFOYtLK",
        "colab_type": "text"
      },
      "cell_type": "markdown",
      "source": [
        "Training on GPU"
      ]
    },
    {
      "metadata": {
        "id": "KNbc6SmSYw-V",
        "colab_type": "text"
      },
      "cell_type": "markdown",
      "source": [
        "Just like how you transfer a Tensor onto the GPU, you transfer the neural net onto the GPU.\n",
        "\n",
        "Let’s first define our device as the first visible cuda device if we have CUDA available:"
      ]
    },
    {
      "metadata": {
        "id": "OqAhOFqwYuH7",
        "colab_type": "code",
        "outputId": "1a0b5771-d243-4b6f-fd73-40134acff8c3",
        "colab": {
          "base_uri": "https://localhost:8080/",
          "height": 34
        }
      },
      "cell_type": "code",
      "source": [
        "device = torch.device(\"cuda\" if torch.cuda.is_available() else \"cpu\")\n",
        "\n",
        "# Assuming that we are on a CUDA machine, this should print a CUDA device:\n",
        "\n",
        "print(device)"
      ],
      "execution_count": 0,
      "outputs": [
        {
          "output_type": "stream",
          "text": [
            "cuda\n"
          ],
          "name": "stdout"
        }
      ]
    },
    {
      "metadata": {
        "id": "QIeFs2jaQOQQ",
        "colab_type": "code",
        "outputId": "98ed0d64-a9f1-4b36-86a8-54882937d631",
        "colab": {
          "base_uri": "https://localhost:8080/",
          "height": 34
        }
      },
      "cell_type": "code",
      "source": [
        "torch.cuda.current_device()"
      ],
      "execution_count": 0,
      "outputs": [
        {
          "output_type": "execute_result",
          "data": {
            "text/plain": [
              "0"
            ]
          },
          "metadata": {
            "tags": []
          },
          "execution_count": 16
        }
      ]
    },
    {
      "metadata": {
        "id": "pxL9Z4W3QUpe",
        "colab_type": "code",
        "outputId": "83292c3a-480b-4bcc-ac24-cbb1d605ca02",
        "colab": {
          "base_uri": "https://localhost:8080/",
          "height": 34
        }
      },
      "cell_type": "code",
      "source": [
        "torch.cuda.device(0)"
      ],
      "execution_count": 0,
      "outputs": [
        {
          "output_type": "execute_result",
          "data": {
            "text/plain": [
              "<torch.cuda.device at 0x7f0d77fc07f0>"
            ]
          },
          "metadata": {
            "tags": []
          },
          "execution_count": 17
        }
      ]
    },
    {
      "metadata": {
        "id": "3Enf_QjDQaC7",
        "colab_type": "code",
        "outputId": "cee313b3-425c-485f-9a87-337be0b29f55",
        "colab": {
          "base_uri": "https://localhost:8080/",
          "height": 34
        }
      },
      "cell_type": "code",
      "source": [
        "torch.cuda.device_count()"
      ],
      "execution_count": 0,
      "outputs": [
        {
          "output_type": "execute_result",
          "data": {
            "text/plain": [
              "1"
            ]
          },
          "metadata": {
            "tags": []
          },
          "execution_count": 18
        }
      ]
    },
    {
      "metadata": {
        "id": "o8CEs2kFQe71",
        "colab_type": "code",
        "outputId": "d56b1406-5bd7-4227-90e3-5d6382c26010",
        "colab": {
          "base_uri": "https://localhost:8080/",
          "height": 34
        }
      },
      "cell_type": "code",
      "source": [
        "torch.cuda.get_device_name(0)"
      ],
      "execution_count": 0,
      "outputs": [
        {
          "output_type": "execute_result",
          "data": {
            "text/plain": [
              "'Tesla K80'"
            ]
          },
          "metadata": {
            "tags": []
          },
          "execution_count": 19
        }
      ]
    },
    {
      "metadata": {
        "id": "rRC1DFAdY8Fo",
        "colab_type": "text"
      },
      "cell_type": "markdown",
      "source": [
        "The rest of this section assumes that device is a CUDA device.\n",
        "\n",
        "Then these methods will recursively go over all modules and convert their parameters and buffers to CUDA tensors"
      ]
    },
    {
      "metadata": {
        "id": "p4nVN2qEY8_N",
        "colab_type": "code",
        "outputId": "b5cabfca-41d8-4e33-8007-e37349deeaf2",
        "colab": {
          "base_uri": "https://localhost:8080/",
          "height": 153
        }
      },
      "cell_type": "code",
      "source": [
        "net.to(device)"
      ],
      "execution_count": 0,
      "outputs": [
        {
          "output_type": "execute_result",
          "data": {
            "text/plain": [
              "Net(\n",
              "  (conv1): Conv2d(3, 6, kernel_size=(5, 5), stride=(1, 1))\n",
              "  (pool): MaxPool2d(kernel_size=2, stride=2, padding=0, dilation=1, ceil_mode=False)\n",
              "  (conv2): Conv2d(6, 16, kernel_size=(5, 5), stride=(1, 1))\n",
              "  (fc1): Linear(in_features=400, out_features=120, bias=True)\n",
              "  (fc2): Linear(in_features=120, out_features=84, bias=True)\n",
              "  (fc3): Linear(in_features=84, out_features=10, bias=True)\n",
              ")"
            ]
          },
          "metadata": {
            "tags": []
          },
          "execution_count": 20
        }
      ]
    },
    {
      "metadata": {
        "id": "Yi631xvVZFNE",
        "colab_type": "text"
      },
      "cell_type": "markdown",
      "source": [
        "Remember that you will have to send the inputs and targets at every step to the GPU too:"
      ]
    },
    {
      "metadata": {
        "id": "uvc9RY9tZg0P",
        "colab_type": "code",
        "outputId": "84c506a3-b954-478f-db97-9a12c3c6bcd6",
        "colab": {
          "base_uri": "https://localhost:8080/",
          "height": 238
        }
      },
      "cell_type": "code",
      "source": [
        "#net=net.cuda()\n",
        "criterion = nn.CrossEntropyLoss().cuda()\n",
        "optimizer = optim.SGD(net.parameters(), lr=0.001, momentum=0.9)\n",
        "for epoch in range(2):  # loop over the dataset multiple times\n",
        "\n",
        "    running_loss = 0.0\n",
        "    for i, data in enumerate(trainloader, 0):\n",
        "        # get the inputs\n",
        "        inputs, labels = data\n",
        "        inputs, labels = inputs.cuda(), labels.cuda()\n",
        "\n",
        "        # zero the parameter gradients\n",
        "        optimizer.zero_grad()\n",
        "\n",
        "        # forward + backward + optimize\n",
        "        outputs = net(inputs)\n",
        "        loss = criterion(outputs, labels)\n",
        "        loss.backward()\n",
        "        optimizer.step()\n",
        "        \n",
        "        # print statistics\n",
        "        running_loss += loss.item()\n",
        "        if i % 2000 == 1999:    # print every 2000 mini-batches\n",
        "            print('[%d, %5d] loss: %.3f' %\n",
        "                  (epoch + 1, i + 1, running_loss / 2000))\n",
        "            running_loss = 0.0\n",
        "\n",
        "print('Finished Training')"
      ],
      "execution_count": 0,
      "outputs": [
        {
          "output_type": "stream",
          "text": [
            "[1,  2000] loss: 1.246\n",
            "[1,  4000] loss: 1.238\n",
            "[1,  6000] loss: 1.240\n",
            "[1,  8000] loss: 1.239\n",
            "[1, 10000] loss: 1.234\n",
            "[1, 12000] loss: 1.212\n",
            "[2,  2000] loss: 1.138\n",
            "[2,  4000] loss: 1.154\n",
            "[2,  6000] loss: 1.153\n",
            "[2,  8000] loss: 1.172\n",
            "[2, 10000] loss: 1.148\n",
            "[2, 12000] loss: 1.143\n",
            "Finished Training\n"
          ],
          "name": "stdout"
        }
      ]
    },
    {
      "metadata": {
        "id": "-YnBbkAVWpIJ",
        "colab_type": "text"
      },
      "cell_type": "markdown",
      "source": [
        "Why dont I notice MASSIVE speedup compared to CPU? Because your **network is realllly small**."
      ]
    },
    {
      "metadata": {
        "id": "WeeESGuzW5xh",
        "colab_type": "text"
      },
      "cell_type": "markdown",
      "source": [
        "**Exercise:** Try increasing the width of your network (argument 2 of the first nn.Conv2d, and argument 1 of the second nn.Conv2d – they need to be the same number), see what kind of speedup you get."
      ]
    }
  ]
}